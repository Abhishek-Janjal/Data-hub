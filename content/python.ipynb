{
  "nbformat": 4,
  "nbformat_minor": 0,
  "metadata": {
    "colab": {
      "provenance": []
    },
    "kernelspec": {
      "name": "python3",
      "display_name": "Python 3"
    },
    "language_info": {
      "name": "python"
    }
  },
  "cells": [
    {
      "cell_type": "markdown",
      "source": [
        "# 1. Introduction to python\n",
        "$\\large \\text{Easy to Learn}$ \\ \n",
        "Python is a simple and minimalistic language. Reading a good Python program feels almost like reading English, although very strict English! This pseudo-code nature of Python is one of its greatest strengths. It allows you to concentrate on the solution to the problem rather than the language itself.\n",
        "\n",
        "$\\large \\text{Free and Open Source}$ \\\\\n",
        "Python is an example of a FLOSS (Free/Libre and Open Source Software). In simple terms, you can freely distribute copies of this software, read its source code, make changes to it, and use pieces of it in new free programs. FLOSS is based on the concept of a community which shares knowledge.\n",
        "\n",
        "$\\large \\text{Object Oriented}$ \\\\\n",
        "Python supports procedure-oriented programming as well as object-oriented programming (OOP). In procedure-oriented languages, the program is built around procedures or functions which are nothing but reusable pieces of programs.\n",
        "\n",
        "# 2. Download Anaconda Distribution\n",
        "Go to https://anaconda.com/ and select Anaconda Individual Edition to download the latest version of Anaconda"
      ],
      "metadata": {
        "id": "EcjHvX3nnr80"
      }
    },
    {
      "cell_type": "markdown",
      "source": [
        "# 3. Variables"
      ],
      "metadata": {
        "id": "Ecsb91Bon5ha"
      }
    },
    {
      "cell_type": "code",
      "source": [
        "# valid variable name\n",
        "b='xyz'\n",
        "a='dsfsf'\n",
        "animal1=\"Cat\"\n",
        "animal2=\"Dog\"\n",
        "a1=2345234532532\n",
        "a_123=13.5\n",
        "_a_=8\n",
        "_a=233\n",
        "a_=343"
      ],
      "metadata": {
        "id": "u30_bVT-u4nb"
      },
      "execution_count": 21,
      "outputs": []
    },
    {
      "cell_type": "code",
      "source": [
        "#case sensetive\n",
        "y=5\n",
        "Y=4\n",
        "print(y,Y)"
      ],
      "metadata": {
        "colab": {
          "base_uri": "https://localhost:8080/"
        },
        "id": "gIqcYu6aw0rR",
        "outputId": "1a50d222-31e0-4efa-df81-f1bed09ade00"
      },
      "execution_count": 22,
      "outputs": [
        {
          "output_type": "stream",
          "name": "stdout",
          "text": [
            "5 4\n"
          ]
        }
      ]
    },
    {
      "cell_type": "markdown",
      "source": [
        "# 3. Data Types"
      ],
      "metadata": {
        "id": "tVtE8-v-w8Al"
      }
    },
    {
      "cell_type": "code",
      "source": [
        "#type() funtion\n",
        "a=1\n",
        "b=0.1\n",
        "c='word'\n",
        "print(type(a))\n",
        "print(type(b))\n",
        "print(type(c))"
      ],
      "metadata": {
        "colab": {
          "base_uri": "https://localhost:8080/"
        },
        "id": "9o4-LlZpw_XG",
        "outputId": "f7fb12ad-168d-4d2f-b886-5df56a4db662"
      },
      "execution_count": 23,
      "outputs": [
        {
          "output_type": "stream",
          "name": "stdout",
          "text": [
            "<class 'int'>\n",
            "<class 'float'>\n",
            "<class 'str'>\n"
          ]
        }
      ]
    },
    {
      "cell_type": "markdown",
      "source": [
        "# 4. Operators\n",
        "| Operators | code | output |\n",
        "|:----------| :---:|-------:|\n",
        "| addition|12+13|25|\n",
        "|substraction|13-12|1|\n",
        "|multiplication|11*2|22|\n",
        "|division|10/2|5|\n",
        "|floor division| 13//2| 6|\n",
        "|power|12**3|1728|\n",
        "|modulus|24%2|0|\n"
      ],
      "metadata": {
        "id": "VCcWa8EoxDXp"
      }
    },
    {
      "cell_type": "markdown",
      "source": [
        "\n",
        "# 5. Input/Output function\n"
      ],
      "metadata": {
        "id": "x894AFzD0KSY"
      }
    },
    {
      "cell_type": "code",
      "source": [
        "#different way of printing string data\n",
        "print('Hello world')\n",
        "\n",
        "print(\"Hello world\")\n",
        "\n",
        "print('Hello','world')\n",
        "\n",
        "print(\"\"\"What is Bias?\n",
        "• Error between average model prediction and ground truth\n",
        "• The bias of the estimated function tells us the capacity of the underlying model to predict the values\"\"\")"
      ],
      "metadata": {
        "id": "7B53iykxAS12",
        "colab": {
          "base_uri": "https://localhost:8080/"
        },
        "outputId": "2855ee51-8b30-4a3e-a1ef-e25be5ae90a5"
      },
      "execution_count": 24,
      "outputs": [
        {
          "output_type": "stream",
          "name": "stdout",
          "text": [
            "Hello world\n",
            "Hello world\n",
            "Hello world\n",
            "What is Bias?\n",
            "• Error between average model prediction and ground truth\n",
            "• The bias of the estimated function tells us the capacity of the underlying model to predict the values\n"
          ]
        }
      ]
    },
    {
      "cell_type": "code",
      "source": [
        "#printing variable using format method\n",
        "s=57\n",
        "a=5.6\n",
        "print(\"sum:{}\\nAverage:{}\".format(s,a))\n",
        "print(f\"sum:{s}\\nAverage:{a}\")"
      ],
      "metadata": {
        "id": "AuHiM8PkARi1",
        "colab": {
          "base_uri": "https://localhost:8080/"
        },
        "outputId": "33404d84-106e-4ebe-b733-28440d9f6029"
      },
      "execution_count": 25,
      "outputs": [
        {
          "output_type": "stream",
          "name": "stdout",
          "text": [
            "sum:57\n",
            "Average:5.6\n",
            "sum:57\n",
            "Average:5.6\n"
          ]
        }
      ]
    },
    {
      "cell_type": "code",
      "source": [
        "#input function\n",
        "name=input('what is your name: ')\n",
        "print(name)6"
      ],
      "metadata": {
        "id": "9sFBwbRzAY8s",
        "colab": {
          "base_uri": "https://localhost:8080/"
        },
        "outputId": "56ff7a31-68e2-448e-e71c-e1130d934b85"
      },
      "execution_count": 26,
      "outputs": [
        {
          "output_type": "stream",
          "name": "stdout",
          "text": [
            "what is your name: Ram\n",
            "Ram\n"
          ]
        }
      ]
    },
    {
      "cell_type": "markdown",
      "source": [
        "\n",
        "# 6. Comparison & Logical Operators\n",
        "| Comparison Operators | code | output |\n",
        "|:---------------------| :---:|-------:|\n",
        "|Equal|`10==11`|False|\n",
        "|Not equal| `10!=10`|False|\n",
        "|Greater than|`7>4`|True|\n",
        "|Less than|`7<4`|False|\n",
        "|Greater than or equal to|`12>=12`|True|\n",
        "|Less than or equal to|`13<=13`|True|\n",
        "\n",
        "| Logical Operators |Description|code | output |\n",
        "|:----------------- |:---------:|:---:|-------:|\n",
        "|and|Return True if both statements are true|`True and True`|`True`|\n",
        "|or|Return True if one of the statemets is true|`True or False`|`True`|\n",
        "|not|Reverse the result,returns False if the result is true|`not(True and False)`|`True`|\n"
      ],
      "metadata": {
        "id": "8HUQlGuC0Qb1"
      }
    },
    {
      "cell_type": "markdown",
      "source": [
        "\n",
        "# 7. Conditional Statements  ,implicit & explicit\n"
      ],
      "metadata": {
        "id": "ls9N1M3d0Ti-"
      }
    },
    {
      "cell_type": "code",
      "source": [
        "\n",
        "#if-else\n",
        "grade=40\n",
        "if grade>50:\n",
        "  print('pass')\n",
        "else:\n",
        "  print('fail')\n"
      ],
      "metadata": {
        "id": "gb76zuPp_5va",
        "colab": {
          "base_uri": "https://localhost:8080/"
        },
        "outputId": "5e74bc45-9d0c-4aee-e542-78ee6b683c02"
      },
      "execution_count": 27,
      "outputs": [
        {
          "output_type": "stream",
          "name": "stdout",
          "text": [
            "fail\n"
          ]
        }
      ]
    },
    {
      "cell_type": "code",
      "source": [
        "#if-elif-else\n",
        "grade=85\n",
        "if grade>=90:\n",
        "  print('A')\n",
        "elif grade>=80:\n",
        "  print('B')\n",
        "elif grade>=70:\n",
        "  print('C')\n",
        "elif grade>=60:\n",
        "  print('D')\n",
        "else:\n",
        "  print('F')"
      ],
      "metadata": {
        "id": "94TLjrBs_9iJ",
        "colab": {
          "base_uri": "https://localhost:8080/"
        },
        "outputId": "d696a057-6ab9-444f-e3ea-65f6c32d7082"
      },
      "execution_count": 28,
      "outputs": [
        {
          "output_type": "stream",
          "name": "stdout",
          "text": [
            "B\n"
          ]
        }
      ]
    },
    {
      "cell_type": "markdown",
      "source": [
        "\n",
        "# 8. Loops\n"
      ],
      "metadata": {
        "id": "0I3iGxpf0VZC"
      }
    },
    {
      "cell_type": "code",
      "source": [
        "\n",
        "#---------For Loop----------------#\n",
        "#example 1\n",
        "for i in range(0,10,2): #range(start,end,step)\n",
        "  print(i)\n",
        "\n",
        "#example 2\n",
        "for i in range(5):\n",
        "  a=int(input('Enter first number'))\n",
        "  b=int(input('Enter second number'))\n",
        "  sum=a+b\n",
        "  print(f\"Sum of 2 no's {sum}\")\n",
        "\n",
        "#example 3\n",
        "ls=['ram','karan',34,54 ,12.1]\n",
        "for i in ls:\n",
        "  print(i)\n",
        "\n",
        "#---------While Loop----------------#\n",
        "#example 1\n",
        "n=10\n",
        "i=1\n",
        "while i<=10:\n",
        "  print(i)\n",
        "  i+=1 #i=i+1\n",
        "\n",
        "#example 2\n",
        "i=555\n",
        "n=567\n",
        "while i<=n:\n",
        "  if i%2!=0:\n",
        "    print(i)\n",
        "  i+=1\n",
        "\n",
        "#example 3\n",
        "color=['vilot','indigo','blue','green','yellow','orange','red']\n",
        "v=iter(color)\n",
        "while True:\n",
        "  print(next(v))\n",
        "\n"
      ],
      "metadata": {
        "id": "_iDWGM0F_zll"
      },
      "execution_count": null,
      "outputs": []
    },
    {
      "cell_type": "markdown",
      "source": [
        "\n",
        "# 9. implicit & explicit\n"
      ],
      "metadata": {
        "id": "Pmly1-vz0Xog"
      }
    },
    {
      "cell_type": "code",
      "source": [
        "#implicit , also known as automatic type conversion\n",
        "#explicit propertie of python where we convert the type of variable as follow\n",
        "a='7'\n",
        "print(f'a = {type(a)}')\n",
        "a=int(a)\n",
        "print(f'a = {type(a)}')\n",
        "a=float(a)\n",
        "print(f'a = {type(a)}')\n",
        "\n"
      ],
      "metadata": {
        "id": "oL_s8epn_ut0",
        "colab": {
          "base_uri": "https://localhost:8080/"
        },
        "outputId": "d8b8b1ac-47a4-493a-cf51-8c3a75dfbe8c"
      },
      "execution_count": 30,
      "outputs": [
        {
          "output_type": "stream",
          "name": "stdout",
          "text": [
            "a = <class 'str'>\n",
            "a = <class 'int'>\n",
            "a = <class 'float'>\n"
          ]
        }
      ]
    },
    {
      "cell_type": "markdown",
      "source": [
        "\n",
        "# 10 .List, Tuple, Dictionary, Set\n"
      ],
      "metadata": {
        "id": "0OUF4Na-_rzp"
      }
    },
    {
      "cell_type": "code",
      "source": [
        "#List - Mutable\n",
        "ls=[1,2,3,4,5]\n",
        "\n",
        "#Tuple - Immutable\n",
        "tp=(6,7,8)\n",
        "\n",
        "#set\n",
        "s={1,2,3,'ram'}\n",
        "\n",
        "#Dictionary\n",
        "dic={1:'Krishna',2:'Karan'}"
      ],
      "metadata": {
        "id": "7l_t1DOv_mT8"
      },
      "execution_count": 31,
      "outputs": []
    },
    {
      "cell_type": "markdown",
      "source": [
        "\n",
        "> ### List\n"
      ],
      "metadata": {
        "id": "FXxt-UbI_jNO"
      }
    },
    {
      "cell_type": "code",
      "source": [
        "ls1=['ram',12,23,45.3,'seta','karan',34543,34]\n",
        "ls2=[1,2,3]\n",
        "print(type(ls1))\n",
        "print(len(ls1))"
      ],
      "metadata": {
        "id": "ZHxJCcS-_ezC",
        "colab": {
          "base_uri": "https://localhost:8080/"
        },
        "outputId": "10984f05-32b7-4ea7-8335-a412ca969b15"
      },
      "execution_count": 32,
      "outputs": [
        {
          "output_type": "stream",
          "name": "stdout",
          "text": [
            "<class 'list'>\n",
            "8\n"
          ]
        }
      ]
    },
    {
      "cell_type": "code",
      "source": [
        "#indexing front2back\n",
        "print(ls1[0])\n",
        "#indexing back2front\n",
        "print(ls1[-1])\n",
        "#slicing\n",
        "print(ls1[1:4])\n"
      ],
      "metadata": {
        "id": "Npp7Egvm_Wmm",
        "colab": {
          "base_uri": "https://localhost:8080/"
        },
        "outputId": "c9e6aa57-d057-465f-a907-c63f93228996"
      },
      "execution_count": 33,
      "outputs": [
        {
          "output_type": "stream",
          "name": "stdout",
          "text": [
            "ram\n",
            "34\n",
            "[12, 23, 45.3]\n"
          ]
        }
      ]
    },
    {
      "cell_type": "code",
      "source": [
        "l1=[1,2,3,\"hello\",34]\n",
        "l1.insert(3,[4,5])\n",
        "l1\n",
        "#list is insert at index 3"
      ],
      "metadata": {
        "id": "5EOBrTLB_TFD",
        "colab": {
          "base_uri": "https://localhost:8080/"
        },
        "outputId": "0b011048-0031-452f-c662-73cf41b050ab"
      },
      "execution_count": 34,
      "outputs": [
        {
          "output_type": "execute_result",
          "data": {
            "text/plain": [
              "[1, 2, 3, [4, 5], 'hello', 34]"
            ]
          },
          "metadata": {},
          "execution_count": 34
        }
      ]
    },
    {
      "cell_type": "code",
      "source": [
        "l1.reverse()\n",
        "l1"
      ],
      "metadata": {
        "id": "TmkNa9qS-4WS",
        "colab": {
          "base_uri": "https://localhost:8080/"
        },
        "outputId": "32c69dd2-55ed-4f92-8a02-c56ec5e1f27c"
      },
      "execution_count": 35,
      "outputs": [
        {
          "output_type": "execute_result",
          "data": {
            "text/plain": [
              "[34, 'hello', [4, 5], 3, 2, 1]"
            ]
          },
          "metadata": {},
          "execution_count": 35
        }
      ]
    },
    {
      "cell_type": "code",
      "source": [
        "\n",
        "l1=[4,6,1,7,8,2,3]\n",
        "l1.sort()\n",
        "l1\n"
      ],
      "metadata": {
        "id": "OQJEnxR4-ymM",
        "colab": {
          "base_uri": "https://localhost:8080/"
        },
        "outputId": "36259735-0da3-4ca6-9940-450409e6082b"
      },
      "execution_count": 36,
      "outputs": [
        {
          "output_type": "execute_result",
          "data": {
            "text/plain": [
              "[1, 2, 3, 4, 6, 7, 8]"
            ]
          },
          "metadata": {},
          "execution_count": 36
        }
      ]
    },
    {
      "cell_type": "markdown",
      "source": [
        "\n",
        "> ### Tuple\n"
      ],
      "metadata": {
        "id": "YJfu-8ix-w_Z"
      }
    },
    {
      "cell_type": "code",
      "source": [
        "tp=()\n",
        "type(tp)"
      ],
      "metadata": {
        "id": "KQpNRW8R-vNP",
        "colab": {
          "base_uri": "https://localhost:8080/"
        },
        "outputId": "d7d9befb-8278-452b-de42-ab13498dc48f"
      },
      "execution_count": 37,
      "outputs": [
        {
          "output_type": "execute_result",
          "data": {
            "text/plain": [
              "tuple"
            ]
          },
          "metadata": {},
          "execution_count": 37
        }
      ]
    },
    {
      "cell_type": "code",
      "source": [
        "\n",
        "#two ways of writing tuple\n",
        "tp=('john','green',3.3)\n",
        "tp1='john','green',3.3\n",
        "print(tp)\n",
        "print(tp1)\n"
      ],
      "metadata": {
        "id": "Zy1phqn6-mys",
        "colab": {
          "base_uri": "https://localhost:8080/"
        },
        "outputId": "f5a3fd32-509c-4891-cd62-c5a0fe77e835"
      },
      "execution_count": 38,
      "outputs": [
        {
          "output_type": "stream",
          "name": "stdout",
          "text": [
            "('john', 'green', 3.3)\n",
            "('john', 'green', 3.3)\n"
          ]
        }
      ]
    },
    {
      "cell_type": "code",
      "source": [
        "#changing the value of tuple at index 2 i.e list inside the tuple and inside the list index 1 is changed\n",
        "tp=('john','blue',[98,75,87])\n",
        "tp[2][1]=85\n",
        "tp"
      ],
      "metadata": {
        "id": "ot30eXrc-fbU",
        "colab": {
          "base_uri": "https://localhost:8080/"
        },
        "outputId": "acfdc0c0-e9a0-41f4-e29b-ef34e3822b73"
      },
      "execution_count": 39,
      "outputs": [
        {
          "output_type": "execute_result",
          "data": {
            "text/plain": [
              "('john', 'blue', [98, 85, 87])"
            ]
          },
          "metadata": {},
          "execution_count": 39
        }
      ]
    },
    {
      "cell_type": "code",
      "source": [
        "# unpacking sequences\n",
        "student_tuple=('john',[98,85,87])\n",
        "first_name,score=student_tuple\n",
        "print(first_name)\n",
        "print(score)"
      ],
      "metadata": {
        "id": "kEJTHtXT-V21",
        "colab": {
          "base_uri": "https://localhost:8080/"
        },
        "outputId": "87be8247-be29-4bf8-817c-06582bb857ab"
      },
      "execution_count": 40,
      "outputs": [
        {
          "output_type": "stream",
          "name": "stdout",
          "text": [
            "john\n",
            "[98, 85, 87]\n"
          ]
        }
      ]
    },
    {
      "cell_type": "markdown",
      "source": [
        "\n",
        "\n",
        "> ### Dictionary\n"
      ],
      "metadata": {
        "id": "qb4GyfLu-UIz"
      }
    },
    {
      "cell_type": "code",
      "source": [
        "country_code={'Finland':'fi','South Africa':'za','nepal':'np'}\n",
        "country_code['Finland']"
      ],
      "metadata": {
        "id": "WWgMcejQ-QLi",
        "colab": {
          "base_uri": "https://localhost:8080/",
          "height": 35
        },
        "outputId": "39eafeb9-7b3a-4679-c010-1c90067dccb8"
      },
      "execution_count": 41,
      "outputs": [
        {
          "output_type": "execute_result",
          "data": {
            "text/plain": [
              "'fi'"
            ],
            "application/vnd.google.colaboratory.intrinsic+json": {
              "type": "string"
            }
          },
          "metadata": {},
          "execution_count": 41
        }
      ]
    },
    {
      "cell_type": "code",
      "source": [
        "country_code.keys"
      ],
      "metadata": {
        "id": "_DO4omcv-IsF",
        "colab": {
          "base_uri": "https://localhost:8080/"
        },
        "outputId": "3db80fbc-1479-4f4e-9f23-072a53b476ab"
      },
      "execution_count": 42,
      "outputs": [
        {
          "output_type": "execute_result",
          "data": {
            "text/plain": [
              "<function dict.keys>"
            ]
          },
          "metadata": {},
          "execution_count": 42
        }
      ]
    },
    {
      "cell_type": "code",
      "source": [
        "country_code.values()"
      ],
      "metadata": {
        "id": "Y6sLTcWg-DKs",
        "colab": {
          "base_uri": "https://localhost:8080/"
        },
        "outputId": "e01d4500-d08b-41a2-924e-19224dec0132"
      },
      "execution_count": 43,
      "outputs": [
        {
          "output_type": "execute_result",
          "data": {
            "text/plain": [
              "dict_values(['fi', 'za', 'np'])"
            ]
          },
          "metadata": {},
          "execution_count": 43
        }
      ]
    },
    {
      "cell_type": "code",
      "source": [
        "country_code.items()"
      ],
      "metadata": {
        "id": "ICNSoX4d97N1",
        "colab": {
          "base_uri": "https://localhost:8080/"
        },
        "outputId": "64cf48c0-dcd6-45a6-ad83-5b8ddf166f96"
      },
      "execution_count": 44,
      "outputs": [
        {
          "output_type": "execute_result",
          "data": {
            "text/plain": [
              "dict_items([('Finland', 'fi'), ('South Africa', 'za'), ('nepal', 'np')])"
            ]
          },
          "metadata": {},
          "execution_count": 44
        }
      ]
    },
    {
      "cell_type": "markdown",
      "source": [
        "\n",
        "> ### Set\n",
        "\n"
      ],
      "metadata": {
        "id": "e5RJYFTX928e"
      }
    },
    {
      "cell_type": "code",
      "source": [
        "ss={'ram','karan','karan'}\n",
        "ss\n",
        "# that means it does not allow duplicate value\n"
      ],
      "metadata": {
        "id": "uGSsBH3y9uly",
        "colab": {
          "base_uri": "https://localhost:8080/"
        },
        "outputId": "6739447e-544f-41e9-b092-c87454ba9c84"
      },
      "execution_count": 45,
      "outputs": [
        {
          "output_type": "execute_result",
          "data": {
            "text/plain": [
              "{'karan', 'ram'}"
            ]
          },
          "metadata": {},
          "execution_count": 45
        }
      ]
    },
    {
      "cell_type": "code",
      "source": [
        "ss.add(5)\n",
        "ss"
      ],
      "metadata": {
        "id": "XC1zPnSZ6tqM",
        "colab": {
          "base_uri": "https://localhost:8080/"
        },
        "outputId": "58f88141-e592-49c7-e3d1-51f64a54eb80"
      },
      "execution_count": 46,
      "outputs": [
        {
          "output_type": "execute_result",
          "data": {
            "text/plain": [
              "{5, 'karan', 'ram'}"
            ]
          },
          "metadata": {},
          "execution_count": 46
        }
      ]
    },
    {
      "cell_type": "code",
      "source": [
        "ss.update((2,'sita'))\n",
        "ss"
      ],
      "metadata": {
        "id": "osmlwqEm6bbm",
        "colab": {
          "base_uri": "https://localhost:8080/"
        },
        "outputId": "2601aad8-f3b0-4d80-8359-392ac2a88614"
      },
      "execution_count": 47,
      "outputs": [
        {
          "output_type": "execute_result",
          "data": {
            "text/plain": [
              "{2, 5, 'karan', 'ram', 'sita'}"
            ]
          },
          "metadata": {},
          "execution_count": 47
        }
      ]
    },
    {
      "cell_type": "markdown",
      "source": [
        "\n",
        "# 11. Functions\n"
      ],
      "metadata": {
        "id": "xz5WtYCB0bPL"
      }
    },
    {
      "cell_type": "code",
      "source": [
        "def square(num):\n",
        "  sq=num**2\n",
        "  return sq\n",
        "square(7)"
      ],
      "metadata": {
        "id": "UsBad5Xk6TWR",
        "colab": {
          "base_uri": "https://localhost:8080/"
        },
        "outputId": "74a660d5-0c4a-4a5a-d7bf-49164414f00b"
      },
      "execution_count": 48,
      "outputs": [
        {
          "output_type": "execute_result",
          "data": {
            "text/plain": [
              "49"
            ]
          },
          "metadata": {},
          "execution_count": 48
        }
      ]
    },
    {
      "cell_type": "code",
      "source": [
        "\n",
        "'''using parameter and also define the type of parameters\n",
        "Note: if your function expects 2 arguments, you have to call the function with 2 arguments not more or less\n",
        "also if you input the wrong type of parameter can cause error\n",
        "'''\n",
        "def my_function(name:str,age:int):\n",
        "    print(f\"My name is {name} and I am {age} year old\")\n",
        "my_function('John',50)\n",
        "\n"
      ],
      "metadata": {
        "id": "VcMJPDwc6LAm",
        "colab": {
          "base_uri": "https://localhost:8080/"
        },
        "outputId": "28ba3619-cb4f-4852-99e9-fa10a8fe242c"
      },
      "execution_count": 49,
      "outputs": [
        {
          "output_type": "stream",
          "name": "stdout",
          "text": [
            "My name is John and I am 50 year old\n"
          ]
        }
      ]
    },
    {
      "cell_type": "code",
      "source": [
        "#Default Parameter Value\n",
        "def my_function(country=\"Norway\"):\n",
        "    print(\"I am from \" + country)\n",
        "\n",
        "my_function('India')\n",
        "my_function()\n"
      ],
      "metadata": {
        "id": "UjyJ8QCT6Dcq",
        "colab": {
          "base_uri": "https://localhost:8080/"
        },
        "outputId": "852e585c-3cf5-41c7-dfde-dd8501bc1887"
      },
      "execution_count": 50,
      "outputs": [
        {
          "output_type": "stream",
          "name": "stdout",
          "text": [
            "I am from India\n",
            "I am from Norway\n"
          ]
        }
      ]
    },
    {
      "cell_type": "code",
      "source": [
        "\n",
        "#The function will receive a tuple of arguments, and can access the items accordingly\n",
        "def my_function(*names):\n",
        "    print(f\"My name is {names[2]}\")\n",
        "my_function('John','Noah','Henry')"
      ],
      "metadata": {
        "id": "Vryhh1Dn54AF",
        "colab": {
          "base_uri": "https://localhost:8080/"
        },
        "outputId": "3a9149b0-61d6-4441-8a6b-41bef5e10418"
      },
      "execution_count": 51,
      "outputs": [
        {
          "output_type": "stream",
          "name": "stdout",
          "text": [
            "My name is Henry\n"
          ]
        }
      ]
    },
    {
      "cell_type": "markdown",
      "source": [
        "\n",
        "# 12. Exception handling\n",
        "\n"
      ],
      "metadata": {
        "id": "FtaR9m7Z0dUR"
      }
    },
    {
      "cell_type": "code",
      "source": [
        "\n",
        "# if you put string or floating it will give you prompt `Please enter a number`\n",
        "try:\n",
        "  x=int(input())\n",
        "except :\n",
        "  print(\"Please enter a number\")\n",
        "finally:\n",
        "  print('hello')\n",
        "\n"
      ],
      "metadata": {
        "id": "ZXqbgytk5LT9",
        "colab": {
          "base_uri": "https://localhost:8080/"
        },
        "outputId": "1bdb9123-b30a-4b5a-9a58-1e7d03a5e741"
      },
      "execution_count": 52,
      "outputs": [
        {
          "output_type": "stream",
          "name": "stdout",
          "text": [
            "yo\n",
            "Please enter a number\n",
            "hello\n"
          ]
        }
      ]
    },
    {
      "cell_type": "markdown",
      "source": [
        "\n",
        "# 13.comprehension, lambda, map(), filter(), reduce()"
      ],
      "metadata": {
        "id": "KMl27bWt0g9F"
      }
    },
    {
      "cell_type": "code",
      "source": [
        "#example 1\n",
        "ls=[i for i in range(1,21) if i%2==0]\n",
        "print(ls)\n",
        "\n",
        "#example 2\n",
        "dic={}\n",
        "for i in range(1,21):\n",
        "  dic.update({i:i*i})\n",
        "print(dic)"
      ],
      "metadata": {
        "id": "5jo6ymii0mVb",
        "colab": {
          "base_uri": "https://localhost:8080/"
        },
        "outputId": "20e666e1-7214-447c-ad9f-cb653cfffc61"
      },
      "execution_count": 53,
      "outputs": [
        {
          "output_type": "stream",
          "name": "stdout",
          "text": [
            "[2, 4, 6, 8, 10, 12, 14, 16, 18, 20]\n",
            "{1: 1, 2: 4, 3: 9, 4: 16, 5: 25, 6: 36, 7: 49, 8: 64, 9: 81, 10: 100, 11: 121, 12: 144, 13: 169, 14: 196, 15: 225, 16: 256, 17: 289, 18: 324, 19: 361, 20: 400}\n"
          ]
        }
      ]
    },
    {
      "cell_type": "code",
      "source": [
        "#example 1\n",
        "x=lambda a,b:a*b\n",
        "print(x(5,6))\n",
        "\n",
        "#example 2\n",
        "x=lambda a,b,c:a+b+c\n",
        "print(x(5,6,2))\n"
      ],
      "metadata": {
        "id": "oa-P872f0tpq",
        "colab": {
          "base_uri": "https://localhost:8080/"
        },
        "outputId": "5167950f-8706-45e3-c124-9c4fc891cfa3"
      },
      "execution_count": 54,
      "outputs": [
        {
          "output_type": "stream",
          "name": "stdout",
          "text": [
            "30\n",
            "13\n"
          ]
        }
      ]
    },
    {
      "cell_type": "code",
      "source": [
        "#map()\n",
        "numbers=(1,2,3,4)\n",
        "result = map(lambda x:x+x,numbers)\n",
        "print(list(result))"
      ],
      "metadata": {
        "id": "e0tcjdyF1BzM",
        "colab": {
          "base_uri": "https://localhost:8080/"
        },
        "outputId": "c8062e61-8005-4d06-eeb9-d361a3fe501d"
      },
      "execution_count": 55,
      "outputs": [
        {
          "output_type": "stream",
          "name": "stdout",
          "text": [
            "[2, 4, 6, 8]\n"
          ]
        }
      ]
    },
    {
      "cell_type": "code",
      "source": [
        "#filter()\n",
        "seq=[0,1,2,3,4,5,8,13]\n",
        "\n",
        "result = filter(lambda x:x%2 !=0,seq)\n",
        "print(list(result))\n"
      ],
      "metadata": {
        "id": "CuYwsXSL1Y3F",
        "colab": {
          "base_uri": "https://localhost:8080/"
        },
        "outputId": "02df07eb-cf05-4e92-bc7b-78bca692e318"
      },
      "execution_count": 56,
      "outputs": [
        {
          "output_type": "stream",
          "name": "stdout",
          "text": [
            "[1, 3, 5, 13]\n"
          ]
        }
      ]
    },
    {
      "cell_type": "code",
      "source": [
        "from functools import reduce\n",
        "numbers=[1,2,3,4,5]\n",
        "sum_result = reduce(lambda x,y:x+y,numbers)\n",
        "print(sum_result)\n"
      ],
      "metadata": {
        "id": "JfvGLbOC1j4q",
        "colab": {
          "base_uri": "https://localhost:8080/"
        },
        "outputId": "e36c88cf-4dc6-43dc-9623-1aaab1580034"
      },
      "execution_count": 57,
      "outputs": [
        {
          "output_type": "stream",
          "name": "stdout",
          "text": [
            "15\n"
          ]
        }
      ]
    }
  ]
}
